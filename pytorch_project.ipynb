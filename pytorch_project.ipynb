{
 "cells": [
  {
   "cell_type": "markdown",
   "id": "bda501c6-01a7-4f05-8d15-b82f16912349",
   "metadata": {},
   "source": [
    "Matus Halak Data Processing Final Project (pytorch)"
   ]
  },
  {
   "cell_type": "markdown",
   "id": "280eaea8-640e-45b5-8b3d-b9af913a5627",
   "metadata": {},
   "source": [
    "Start off easy: MNIST digit classification\n",
    "MNIST dataset\n",
    "70,000 labeled images of handdrawn digits 0-9"
   ]
  },
  {
   "cell_type": "code",
   "execution_count": 13,
   "id": "e832cccd-b356-4627-8d95-5a7b7d601972",
   "metadata": {},
   "outputs": [
    {
     "name": "stdout",
     "output_type": "stream",
     "text": [
      "all modules imported!\n"
     ]
    }
   ],
   "source": [
    "# Pytorch modules\n",
    "import torch\n",
    "# main class used for making neural networks\n",
    "from torch import nn\n",
    "# pytorch has all the datasets I need already in its computer vision module\n",
    "from torchvision import datasets\n",
    "# used to parallelize loading (my laptop has only 4 cores)\n",
    "from torch.utils.data import DataLoader\n",
    "# used to transform input data into desired format\n",
    "from torchvision import transforms\n",
    "\n",
    "# general python modules\n",
    "import os\n",
    "import numpy as np\n",
    "from matplotlib import pyplot as plt\n",
    "\n",
    "print('all modules imported!')"
   ]
  },
  {
   "cell_type": "code",
   "execution_count": 6,
   "id": "e5a6f6e4-069f-47de-b74f-50f7d8bec896",
   "metadata": {},
   "outputs": [],
   "source": [
    "# define transformations we will apply to images before using them\n",
    "transform = transforms.Compose([\n",
    "    # same size all (MNIST images 28x28)\n",
    "    transforms.Resize([28,28]),\n",
    "    # transform all to greyscale\n",
    "    transforms.Grayscale(),\n",
    "    # transform to tensor representation\n",
    "    transforms.ToTensor()])\n",
    "\n",
    "# get the MNIST data and apply our transform to it and save to same directory\n",
    "mnist = datasets.MNIST(root='.', # same directory\n",
    "                       download=True, \n",
    "                       transform = transform)"
   ]
  },
  {
   "cell_type": "code",
   "execution_count": 9,
   "id": "3fc028a9-b4ed-44f8-a04b-1da1564dd911",
   "metadata": {},
   "outputs": [
    {
     "name": "stdout",
     "output_type": "stream",
     "text": [
      "One batch: torch.Size([64, 1, 28, 28])\n"
     ]
    }
   ],
   "source": [
    "# batch size seems to be a parameter that one can play with a lot\n",
    "# will try different ones (apparently smaller batch size = faster training but more noise)\n",
    "\n",
    "# iterator of the dataset (always returns the n = batch size of \n",
    "# images with labels in each iteration)\n",
    "dataloader = DataLoader(dataset = mnist, \n",
    "                        batch_size = 64,\n",
    "                        num_workers = 4) # 4 cpu cores on my laptop\n",
    "\n",
    "image, label = next(iter(dataloader))\n",
    "\n",
    "print('One batch:', image.shape)"
   ]
  },
  {
   "cell_type": "code",
   "execution_count": 14,
   "id": "6466b44f-20e5-4827-aaf5-0db4f4b3d12c",
   "metadata": {
    "scrolled": true
   },
   "outputs": [
    {
     "data": {
      "image/png": "[encoded data removed]",
      "text/plain": [
       "<Figure size 500x500 with 9 Axes>"
      ]
     },
     "metadata": {},
     "output_type": "display_data"
    }
   ],
   "source": [
    "from numpy.random import randint\n",
    "fig, axes = plt.subplots(3,3,figsize = (5,5))\n",
    "axes = axes.flatten()\n",
    "for ax, image_eg in enumerate(randint(0,64,size = 9)):\n",
    "    axes[ax].set_title(f'Label: {label[image_eg]}')\n",
    "    axes[ax].axis('off')\n",
    "    axes[ax].imshow(transforms.ToPILImage()(image[image_eg]))\n",
    "# Example data\n",
    "plt.show()"
   ]
  },
  {
   "cell_type": "markdown",
   "id": "afcf9739-704f-4916-a625-34847fdbc943",
   "metadata": {},
   "source": [
    "Building a NN\n",
    "-  input layer: 28x28 = 784 inputs(image size) (value 0-1, normalized)\n",
    "-  hidden layer(s): hard to determine parameters, need to play around\n",
    "    - how many layers ?\n",
    "    - how many nodes ? - more than input layer?\n",
    "- output layer: 10 outputs (digits 0-9) (value 0-1; the output with the highest value is the predicted label)\n",
    "- weights between nodes of different layers (value 0-1; initiallize randomly)\n",
    "- each node in hidden & output layers performs a weighed sum (or some other operation) on the node 'output' values and weights from previous layer\n",
    "- an activation function and bias determines how this 'weighed sum' will be reflected in the 'output' of the current node"
   ]
  },
  {
   "cell_type": "code",
   "execution_count": 22,
   "id": "268f4af5-c5d1-4d83-a3a6-16d50c90bd3c",
   "metadata": {},
   "outputs": [
    {
     "name": "stdout",
     "output_type": "stream",
     "text": [
      "My_First_NN(\n",
      "  (layers): Sequential(\n",
      "    (0): Sequential(\n",
      "      (0): Linear(in_features=784, out_features=300, bias=True)\n",
      "      (1): ReLU()\n",
      "    )\n",
      "    (1): Sequential(\n",
      "      (0): Linear(in_features=300, out_features=200, bias=True)\n",
      "      (1): ReLU()\n",
      "    )\n",
      "    (2): Sequential(\n",
      "      (0): Linear(in_features=200, out_features=300, bias=True)\n",
      "      (1): ReLU()\n",
      "    )\n",
      "    (3): Linear(in_features=300, out_features=10, bias=True)\n",
      "  )\n",
      ")\n"
     ]
    }
   ],
   "source": [
    "# fully connected (fc) block (will repeat for multiple hidden layers)\n",
    "def fc_block(input_size:int,\n",
    "            output_size:int,\n",
    "            activation_function:object):\n",
    "    return nn.Sequential(\n",
    "        # how to perform \"weighed sum\" on 'output' of previous layer\n",
    "        nn.Linear(input_size,output_size),\n",
    "        # what to do with \"weighed sum\"\n",
    "        activation_function())\n",
    "    \n",
    "# start with fully connected network\n",
    "class My_First_NN (nn.Module):\n",
    "    def __init__(self,\n",
    "                 in_channels:int,\n",
    "                 hidden_layers_sizes:list,\n",
    "                 out_channels:int,\n",
    "                activation:object):\n",
    "        # initialize whatever is in __init__ of nn.Module\n",
    "        super().__init__()\n",
    "        # this one way how input & hidden layers can be defined\n",
    "        # sizes (number of nodes) of each layer\n",
    "        layer_sizes = [in_channels,*hidden_layers_sizes]\n",
    "        # make blocks of fully connected layers \n",
    "        fully_connected_blocks = [fc_block(in_n, out_n, activation)\n",
    "                                  for in_n, out_n in zip(layer_sizes, layer_sizes[1:])]\n",
    "        # these will be sequentially executed in the forward pass\n",
    "        self.layers = nn.Sequential(*fully_connected_blocks, \n",
    "                                    nn.Linear(layer_sizes[-1],out_channels))\n",
    "        \n",
    "        def forward(self, x):\n",
    "            # flatten input\n",
    "            x = x.view(x.size(0),-1)\n",
    "            # forward pass of input through network\n",
    "            x = self.layers(x)\n",
    "            # at the end, x is a list of 10 numbers from 0-10 telling us\n",
    "            # which label the model predicts\n",
    "            return x\n",
    "\n",
    "first_model = My_First_NN(784,\n",
    "                          # completely arbitrary number of hidden layers & nodes\n",
    "                         [300,200,300],\n",
    "                         10,\n",
    "                         nn.ReLU)\n",
    "# inspect model architecture\n",
    "print(first_model) # yes, as intended"
   ]
  },
  {
   "cell_type": "code",
   "execution_count": null,
   "id": "d2c258da-8595-42d0-801e-851af008f0a2",
   "metadata": {},
   "outputs": [],
   "source": []
  },
  {
   "cell_type": "markdown",
   "id": "28c1178d-2e54-488c-88df-cde13eda34d5",
   "metadata": {},
   "source": [
    "Make some CNNs and some FCNs"
   ]
  },
  {
   "cell_type": "code",
   "execution_count": null,
   "id": "7d101d68-d10e-4f67-aa6d-21ccca38c1d6",
   "metadata": {},
   "outputs": [],
   "source": [
    "# for working with our images for later\n",
    "from PIL import Image as img\n"
   ]
  }
 ],
 "metadata": {
  "kernelspec": {
   "display_name": "Python 3 (ipykernel)",
   "language": "python",
   "name": "python3"
  },
  "language_info": {
   "codemirror_mode": {
    "name": "ipython",
    "version": 3
   },
   "file_extension": ".py",
   "mimetype": "text/x-python",
   "name": "python",
   "nbconvert_exporter": "python",
   "pygments_lexer": "ipython3",
   "version": "3.11.9"
  }
 },
 "nbformat": 4,
 "nbformat_minor": 5
}
